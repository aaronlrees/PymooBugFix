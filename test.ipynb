{
 "cells": [
  {
   "cell_type": "code",
   "execution_count": 1,
   "metadata": {},
   "outputs": [],
   "source": [
    "import pickle\n",
    "from pymoo.operators.crossover.sbx import SBX\n",
    "from pymoo.operators.mutation.pm import PolynomialMutation\n",
    "from pymoo.operators.sampling.lhs import LHS\n",
    "from pymoo.termination.default import DefaultMultiObjectiveTermination\n",
    "from pymoo.termination import get_termination\n",
    "\n",
    "from pymoo.optimize import minimize\n",
    "from pymoo.algorithms.moo.nsga2 import NSGA2\n",
    "from pymoo.core.problem import Problem\n",
    "import numpy as np"
   ]
  },
  {
   "cell_type": "code",
   "execution_count": 2,
   "metadata": {},
   "outputs": [],
   "source": [
    "model = pickle.load( open( \"bugModel.p\", \"rb\" ) )"
   ]
  },
  {
   "cell_type": "code",
   "execution_count": 3,
   "metadata": {},
   "outputs": [],
   "source": [
    "class MyProblem(Problem):\n",
    "    def __init__(self, dim, ub, lb, model):\n",
    "        super().__init__(\n",
    "            n_var=dim, n_obj=2, n_constr=0, xl=lb, xu=ub\n",
    "        )\n",
    "        self.model = model\n",
    "\n",
    "    def _evaluate(self, x, out, *args, **kwargs):\n",
    "        mu, std = self.model._predict(x)\n",
    "        f1 = mu\n",
    "        f2 = -std\n",
    "\n",
    "        # out[\"F\"] = [f1, f2]\n",
    "        out[\"F\"] = np.column_stack([f1, f2])"
   ]
  },
  {
   "cell_type": "code",
   "execution_count": 4,
   "metadata": {},
   "outputs": [],
   "source": [
    "dim = 10\n",
    "lb = np.empty(dim)\n",
    "lb.fill(-dim)\n",
    "ub = lb * -1"
   ]
  },
  {
   "cell_type": "code",
   "execution_count": 9,
   "metadata": {},
   "outputs": [
    {
     "name": "stdout",
     "output_type": "stream",
     "text": [
      "==========================================================\n",
      "n_gen  |  n_eval  | n_nds  |      eps      |   indicator  \n",
      "==========================================================\n",
      "     1 |     1000 |      2 |             - |             -\n"
     ]
    },
    {
     "name": "stderr",
     "output_type": "stream",
     "text": [
      "/Users/aaron/Documents/PhD/PymooBug/scripts/gp.py:35: RuntimeWarning: overflow encountered in multiply\n",
      "  var = pred.variance.numpy() * (self.y_scaler.std_dev**2)\n",
      "/Users/aaron/Documents/PhD/PymooBug/scripts/gp.py:35: RuntimeWarning: overflow encountered in multiply\n",
      "  var = pred.variance.numpy() * (self.y_scaler.std_dev**2)\n",
      "/Users/aaron/miniconda3/envs/pymooBug/lib/python3.11/site-packages/pymoo/algorithms/moo/nsga2.py:175: RuntimeWarning: invalid value encountered in subtract\n",
      "  dist = np.row_stack([_F, np.full(n_obj, np.inf)]) - np.row_stack([np.full(n_obj, -np.inf), _F])\n",
      "/Users/aaron/miniconda3/envs/pymooBug/lib/python3.11/site-packages/pymoo/algorithms/moo/nsga2.py:183: RuntimeWarning: invalid value encountered in divide\n",
      "  dist_to_last, dist_to_next = dist_to_last[:-1] / norm, dist_to_next[1:] / norm\n",
      "/Users/aaron/miniconda3/envs/pymooBug/lib/python3.11/site-packages/pymoo/termination/ftol.py:14: RuntimeWarning: invalid value encountered in subtract\n",
      "  return np.max(np.abs((a - b) / norm))\n",
      "/Users/aaron/miniconda3/envs/pymooBug/lib/python3.11/site-packages/pymoo/util/normalization.py:86: RuntimeWarning: invalid value encountered in subtract\n",
      "  N[..., neither_nan] = (X[..., neither_nan] - xl[neither_nan]) / (xu[neither_nan] - xl[neither_nan])\n",
      "/Users/aaron/miniconda3/envs/pymooBug/lib/python3.11/site-packages/pymoo/util/normalization.py:86: RuntimeWarning: invalid value encountered in divide\n",
      "  N[..., neither_nan] = (X[..., neither_nan] - xl[neither_nan]) / (xu[neither_nan] - xl[neither_nan])\n"
     ]
    },
    {
     "ename": "AssertionError",
     "evalue": "",
     "output_type": "error",
     "traceback": [
      "\u001b[0;31m---------------------------------------------------------------------------\u001b[0m",
      "\u001b[0;31mAssertionError\u001b[0m                            Traceback (most recent call last)",
      "Cell \u001b[0;32mIn[9], line 16\u001b[0m\n\u001b[1;32m      7\u001b[0m algorithm \u001b[39m=\u001b[39m NSGA2(pop_size\u001b[39m=\u001b[39m\u001b[39m100\u001b[39m \u001b[39m*\u001b[39m \u001b[39mlen\u001b[39m(ub),\n\u001b[1;32m      8\u001b[0m                     crossover\u001b[39m=\u001b[39mcrossover,\n\u001b[1;32m      9\u001b[0m                     mutation\u001b[39m=\u001b[39mmutation,\n\u001b[1;32m     10\u001b[0m                     sampling\u001b[39m=\u001b[39mLHS(),\n\u001b[1;32m     11\u001b[0m                 eliminate_duplicates\u001b[39m=\u001b[39m\u001b[39mTrue\u001b[39;00m)\n\u001b[1;32m     13\u001b[0m termination \u001b[39m=\u001b[39m DefaultMultiObjectiveTermination(\n\u001b[1;32m     14\u001b[0m     n_max_gen\u001b[39m=\u001b[39m\u001b[39m50\u001b[39m,\n\u001b[1;32m     15\u001b[0m     n_max_evals\u001b[39m=\u001b[39m\u001b[39m5000\u001b[39m \u001b[39m*\u001b[39m \u001b[39mlen\u001b[39m(ub))\n\u001b[0;32m---> 16\u001b[0m res \u001b[39m=\u001b[39m minimize(problem,\n\u001b[1;32m     17\u001b[0m         algorithm,\n\u001b[1;32m     18\u001b[0m         termination,\n\u001b[1;32m     19\u001b[0m         seed\u001b[39m=\u001b[39;49m\u001b[39m123\u001b[39;49m,\n\u001b[1;32m     20\u001b[0m         verbose\u001b[39m=\u001b[39;49m\u001b[39mTrue\u001b[39;49;00m)\n",
      "File \u001b[0;32m~/miniconda3/envs/pymooBug/lib/python3.11/site-packages/pymoo/optimize.py:67\u001b[0m, in \u001b[0;36mminimize\u001b[0;34m(problem, algorithm, termination, copy_algorithm, copy_termination, **kwargs)\u001b[0m\n\u001b[1;32m     64\u001b[0m     algorithm\u001b[39m.\u001b[39msetup(problem, \u001b[39m*\u001b[39m\u001b[39m*\u001b[39mkwargs)\n\u001b[1;32m     66\u001b[0m \u001b[39m# actually execute the algorithm\u001b[39;00m\n\u001b[0;32m---> 67\u001b[0m res \u001b[39m=\u001b[39m algorithm\u001b[39m.\u001b[39;49mrun()\n\u001b[1;32m     69\u001b[0m \u001b[39m# store the deep copied algorithm in the result object\u001b[39;00m\n\u001b[1;32m     70\u001b[0m res\u001b[39m.\u001b[39malgorithm \u001b[39m=\u001b[39m algorithm\n",
      "File \u001b[0;32m~/miniconda3/envs/pymooBug/lib/python3.11/site-packages/pymoo/core/algorithm.py:141\u001b[0m, in \u001b[0;36mAlgorithm.run\u001b[0;34m(self)\u001b[0m\n\u001b[1;32m    139\u001b[0m \u001b[39mdef\u001b[39;00m \u001b[39mrun\u001b[39m(\u001b[39mself\u001b[39m):\n\u001b[1;32m    140\u001b[0m     \u001b[39mwhile\u001b[39;00m \u001b[39mself\u001b[39m\u001b[39m.\u001b[39mhas_next():\n\u001b[0;32m--> 141\u001b[0m         \u001b[39mself\u001b[39;49m\u001b[39m.\u001b[39;49mnext()\n\u001b[1;32m    142\u001b[0m     \u001b[39mreturn\u001b[39;00m \u001b[39mself\u001b[39m\u001b[39m.\u001b[39mresult()\n",
      "File \u001b[0;32m~/miniconda3/envs/pymooBug/lib/python3.11/site-packages/pymoo/core/algorithm.py:162\u001b[0m, in \u001b[0;36mAlgorithm.next\u001b[0;34m(self)\u001b[0m\n\u001b[1;32m    160\u001b[0m \u001b[39mif\u001b[39;00m infills \u001b[39mis\u001b[39;00m \u001b[39mnot\u001b[39;00m \u001b[39mNone\u001b[39;00m:\n\u001b[1;32m    161\u001b[0m     \u001b[39mself\u001b[39m\u001b[39m.\u001b[39mevaluator\u001b[39m.\u001b[39meval(\u001b[39mself\u001b[39m\u001b[39m.\u001b[39mproblem, infills, algorithm\u001b[39m=\u001b[39m\u001b[39mself\u001b[39m)\n\u001b[0;32m--> 162\u001b[0m     \u001b[39mself\u001b[39;49m\u001b[39m.\u001b[39;49madvance(infills\u001b[39m=\u001b[39;49minfills)\n\u001b[1;32m    164\u001b[0m \u001b[39m# if the algorithm does not follow the infill-advance scheme just call advance\u001b[39;00m\n\u001b[1;32m    165\u001b[0m \u001b[39melse\u001b[39;00m:\n\u001b[1;32m    166\u001b[0m     \u001b[39mself\u001b[39m\u001b[39m.\u001b[39madvance()\n",
      "File \u001b[0;32m~/miniconda3/envs/pymooBug/lib/python3.11/site-packages/pymoo/core/algorithm.py:232\u001b[0m, in \u001b[0;36mAlgorithm.advance\u001b[0;34m(self, infills, **kwargs)\u001b[0m\n\u001b[1;32m    230\u001b[0m     \u001b[39m# always advance to the next iteration - except if the algorithm returns False\u001b[39;00m\n\u001b[1;32m    231\u001b[0m     \u001b[39mif\u001b[39;00m val \u001b[39mis\u001b[39;00m \u001b[39mNone\u001b[39;00m \u001b[39mor\u001b[39;00m val:\n\u001b[0;32m--> 232\u001b[0m         \u001b[39mself\u001b[39;49m\u001b[39m.\u001b[39;49m_post_advance()\n\u001b[1;32m    234\u001b[0m \u001b[39m# if the algorithm has terminated, then do the finalization steps and return the result\u001b[39;00m\n\u001b[1;32m    235\u001b[0m \u001b[39mif\u001b[39;00m \u001b[39mself\u001b[39m\u001b[39m.\u001b[39mtermination\u001b[39m.\u001b[39mhas_terminated():\n",
      "File \u001b[0;32m~/miniconda3/envs/pymooBug/lib/python3.11/site-packages/pymoo/core/algorithm.py:312\u001b[0m, in \u001b[0;36mAlgorithm._post_advance\u001b[0;34m(self)\u001b[0m\n\u001b[1;32m    309\u001b[0m \u001b[39mself\u001b[39m\u001b[39m.\u001b[39mtermination\u001b[39m.\u001b[39mupdate(\u001b[39mself\u001b[39m)\n\u001b[1;32m    311\u001b[0m \u001b[39m# display the output if defined by the algorithm\u001b[39;00m\n\u001b[0;32m--> 312\u001b[0m \u001b[39mself\u001b[39;49m\u001b[39m.\u001b[39;49mdisplay(\u001b[39mself\u001b[39;49m)\n\u001b[1;32m    314\u001b[0m \u001b[39m# if a callback function is provided it is called after each iteration\u001b[39;00m\n\u001b[1;32m    315\u001b[0m \u001b[39mself\u001b[39m\u001b[39m.\u001b[39mcallback(\u001b[39mself\u001b[39m)\n",
      "File \u001b[0;32m~/miniconda3/envs/pymooBug/lib/python3.11/site-packages/pymoo/core/callback.py:27\u001b[0m, in \u001b[0;36mCallback.__call__\u001b[0;34m(self, algorithm)\u001b[0m\n\u001b[1;32m     24\u001b[0m     \u001b[39mself\u001b[39m\u001b[39m.\u001b[39mis_initialized \u001b[39m=\u001b[39m \u001b[39mTrue\u001b[39;00m\n\u001b[1;32m     26\u001b[0m \u001b[39mself\u001b[39m\u001b[39m.\u001b[39mnotify(algorithm)\n\u001b[0;32m---> 27\u001b[0m \u001b[39mself\u001b[39;49m\u001b[39m.\u001b[39;49mupdate(algorithm)\n",
      "File \u001b[0;32m~/miniconda3/envs/pymooBug/lib/python3.11/site-packages/pymoo/util/display/display.py:19\u001b[0m, in \u001b[0;36mDisplay.update\u001b[0;34m(self, algorithm, **kwargs)\u001b[0m\n\u001b[1;32m     17\u001b[0m text \u001b[39m=\u001b[39m \u001b[39m\"\u001b[39m\u001b[39m\"\u001b[39m\n\u001b[1;32m     18\u001b[0m header \u001b[39m=\u001b[39m \u001b[39mnot\u001b[39;00m output\u001b[39m.\u001b[39mis_initialized\n\u001b[0;32m---> 19\u001b[0m output(algorithm)\n\u001b[1;32m     21\u001b[0m \u001b[39mif\u001b[39;00m header:\n\u001b[1;32m     22\u001b[0m     text \u001b[39m+\u001b[39m\u001b[39m=\u001b[39m output\u001b[39m.\u001b[39mheader(border\u001b[39m=\u001b[39m\u001b[39mTrue\u001b[39;00m) \u001b[39m+\u001b[39m \u001b[39m'\u001b[39m\u001b[39m\\n\u001b[39;00m\u001b[39m'\u001b[39m\n",
      "File \u001b[0;32m~/miniconda3/envs/pymooBug/lib/python3.11/site-packages/pymoo/core/callback.py:27\u001b[0m, in \u001b[0;36mCallback.__call__\u001b[0;34m(self, algorithm)\u001b[0m\n\u001b[1;32m     24\u001b[0m     \u001b[39mself\u001b[39m\u001b[39m.\u001b[39mis_initialized \u001b[39m=\u001b[39m \u001b[39mTrue\u001b[39;00m\n\u001b[1;32m     26\u001b[0m \u001b[39mself\u001b[39m\u001b[39m.\u001b[39mnotify(algorithm)\n\u001b[0;32m---> 27\u001b[0m \u001b[39mself\u001b[39;49m\u001b[39m.\u001b[39;49mupdate(algorithm)\n",
      "File \u001b[0;32m~/miniconda3/envs/pymooBug/lib/python3.11/site-packages/pymoo/util/display/multi.py:79\u001b[0m, in \u001b[0;36mMultiObjectiveOutput.update\u001b[0;34m(self, algorithm)\u001b[0m\n\u001b[1;32m     76\u001b[0m \u001b[39mif\u001b[39;00m \u001b[39mself\u001b[39m\u001b[39m.\u001b[39mindicator_no_pf \u001b[39mis\u001b[39;00m \u001b[39mnot\u001b[39;00m \u001b[39mNone\u001b[39;00m:\n\u001b[1;32m     78\u001b[0m     ind \u001b[39m=\u001b[39m \u001b[39mself\u001b[39m\u001b[39m.\u001b[39mindicator_no_pf\n\u001b[0;32m---> 79\u001b[0m     ind\u001b[39m.\u001b[39;49mupdate(algorithm)\n\u001b[1;32m     81\u001b[0m     valid \u001b[39m=\u001b[39m ind\u001b[39m.\u001b[39mdelta_ideal \u001b[39mis\u001b[39;00m \u001b[39mnot\u001b[39;00m \u001b[39mNone\u001b[39;00m\n\u001b[1;32m     83\u001b[0m     \u001b[39mif\u001b[39;00m valid:\n",
      "File \u001b[0;32m~/miniconda3/envs/pymooBug/lib/python3.11/site-packages/pymoo/core/termination.py:29\u001b[0m, in \u001b[0;36mTermination.update\u001b[0;34m(self, algorithm)\u001b[0m\n\u001b[1;32m     27\u001b[0m \u001b[39melse\u001b[39;00m:\n\u001b[1;32m     28\u001b[0m     progress \u001b[39m=\u001b[39m \u001b[39mself\u001b[39m\u001b[39m.\u001b[39m_update(algorithm)\n\u001b[0;32m---> 29\u001b[0m     \u001b[39massert\u001b[39;00m progress \u001b[39m>\u001b[39m\u001b[39m=\u001b[39m \u001b[39m0.0\u001b[39m\n\u001b[1;32m     31\u001b[0m \u001b[39mself\u001b[39m\u001b[39m.\u001b[39mperc \u001b[39m=\u001b[39m progress\n\u001b[1;32m     32\u001b[0m \u001b[39mreturn\u001b[39;00m \u001b[39mself\u001b[39m\u001b[39m.\u001b[39mperc\n",
      "\u001b[0;31mAssertionError\u001b[0m: "
     ]
    }
   ],
   "source": [
    "problem = MyProblem(len(ub), ub, lb, model)\n",
    "\n",
    "\n",
    "\n",
    "mutation = PolynomialMutation(prob = 1/len(ub), eta=20)\n",
    "crossover = SBX(prob_var=0.8, eta=20)\n",
    "algorithm = NSGA2(pop_size=100 * len(ub),\n",
    "                    crossover=crossover,\n",
    "                    mutation=mutation,\n",
    "                    sampling=LHS(),\n",
    "                eliminate_duplicates=True)\n",
    "\n",
    "termination = DefaultMultiObjectiveTermination(\n",
    "    n_max_gen=50,\n",
    "    n_max_evals=5000 * len(ub))\n",
    "res = minimize(problem,\n",
    "        algorithm,\n",
    "        termination,\n",
    "        seed=123,\n",
    "        verbose=True)\n"
   ]
  },
  {
   "cell_type": "code",
   "execution_count": null,
   "metadata": {},
   "outputs": [],
   "source": []
  }
 ],
 "metadata": {
  "kernelspec": {
   "display_name": "epgreedym",
   "language": "python",
   "name": "python3"
  },
  "language_info": {
   "codemirror_mode": {
    "name": "ipython",
    "version": 3
   },
   "file_extension": ".py",
   "mimetype": "text/x-python",
   "name": "python",
   "nbconvert_exporter": "python",
   "pygments_lexer": "ipython3",
   "version": "3.11.3"
  },
  "orig_nbformat": 4
 },
 "nbformat": 4,
 "nbformat_minor": 2
}
